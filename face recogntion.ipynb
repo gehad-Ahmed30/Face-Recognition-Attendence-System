{
 "cells": [
  {
   "cell_type": "code",
   "execution_count": 1,
   "metadata": {},
   "outputs": [],
   "source": [
    "import cv2 \n",
    "import os \n",
    "import face_recognition\n",
    "import pickle\n",
    "import firebase_admin\n",
    "from firebase_admin import credentials\n",
    "from firebase_admin import db"
   ]
  },
  {
   "cell_type": "code",
   "execution_count": 2,
   "metadata": {},
   "outputs": [
    {
     "name": "stdout",
     "output_type": "stream",
     "text": [
      "['2100723.jpeg', '2101702.jpeg', '2102125.png']\n",
      "Encoding Started ...\n",
      "Encoding Complete\n",
      "File Saved\n"
     ]
    }
   ],
   "source": [
    "\n",
    "\n",
    "# importing student images\n",
    "folderpath=\"Images\"\n",
    "pathlist = os.listdir(folderpath)\n",
    "print(pathlist)\n",
    "imglist=[]\n",
    "studentID=[]\n",
    "\n",
    "for path in pathlist:\n",
    "    imglist.append(cv2.imread(os.path.join(folderpath,path)))\n",
    "    #print(path)\n",
    "    #print(os.path.splitext(path)[0])\n",
    "    studentID.append(os.path.splitext(path)[0])\n",
    "\n",
    "\n",
    "def findEncoding(imagesList):\n",
    "    encodeList=[]\n",
    "    for img in imagesList:\n",
    "        img=cv2.cvtColor(img,cv2.COLOR_BGR2RGB)\n",
    "        encode=face_recognition.face_encodings(img)[0]\n",
    "        encodeList.append(encode)\n",
    "\n",
    "    return encodeList\n",
    "\n",
    "print(\"Encoding Started ...\")\n",
    "encodeListKnown=findEncoding(imglist)\n",
    "encodeListKnownwithID=[encodeListKnown,studentID]\n",
    "print(\"Encoding Complete\")\n",
    "\n",
    "file=open(\"EncodeFile.p\",\"wb\")\n",
    "pickle.dump(encodeListKnownwithID,file)\n",
    "file.close()\n",
    "print(\"File Saved\")"
   ]
  }
 ],
 "metadata": {
  "kernelspec": {
   "display_name": "Python 3",
   "language": "python",
   "name": "python3"
  },
  "language_info": {
   "codemirror_mode": {
    "name": "ipython",
    "version": 3
   },
   "file_extension": ".py",
   "mimetype": "text/x-python",
   "name": "python",
   "nbconvert_exporter": "python",
   "pygments_lexer": "ipython3",
   "version": "3.11.6"
  }
 },
 "nbformat": 4,
 "nbformat_minor": 2
}
