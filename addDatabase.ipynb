{
 "cells": [
  {
   "cell_type": "code",
   "execution_count": 1,
   "metadata": {},
   "outputs": [],
   "source": [
    "import firebase_admin\n",
    "from firebase_admin import credentials\n",
    "from firebase_admin import db\n",
    "\n",
    "cred = credentials.Certificate(\"serviceAccountKey.json\")\n",
    "firebase_admin.initialize_app(cred,{\n",
    "    'databaseURL':\"https://faceattendacerealtime-125b8-default-rtdb.firebaseio.com/\"\n",
    "})\n",
    "\n",
    "ref=db.reference('students')\n",
    "\n",
    "data={\n",
    "    '2100723':\n",
    "    {\n",
    "        'Name':'Gehad Ahmed',\n",
    "        'major':'AI',\n",
    "        'starting_year':2021,\n",
    "        'total_attendance':10,\n",
    "        'standing':'A',\n",
    "        'year':4,\n",
    "        'last_attendance_time':'2024-12-12 00:54:34'\n",
    "\n",
    "    },\n",
    "    '2101702':\n",
    "    {\n",
    "        'Name':'Yomna Badr',\n",
    "        'major':'frontend',\n",
    "        'starting_year':2021,\n",
    "        'total_attendance':11,\n",
    "        'standing':'G',\n",
    "        'year':4,\n",
    "        'last_attendance_time':'2024-12-12 00:54:34'\n",
    "\n",
    "    },\n",
    "    '2102125':\n",
    "    {\n",
    "        'Name':'Nour zaid',\n",
    "        'major':'AI',\n",
    "        'starting_year':2021,\n",
    "        'total_attendance':9,\n",
    "        'standing':'G',\n",
    "        'year':4,\n",
    "        'last_attendance_time':'2024-12-12 00:54:34'\n",
    "    }\n",
    "\n",
    "}\n",
    "\n",
    "for key, value in data.items():\n",
    "    ref.child(key).set(value)"
   ]
  }
 ],
 "metadata": {
  "kernelspec": {
   "display_name": "Python 3",
   "language": "python",
   "name": "python3"
  },
  "language_info": {
   "codemirror_mode": {
    "name": "ipython",
    "version": 3
   },
   "file_extension": ".py",
   "mimetype": "text/x-python",
   "name": "python",
   "nbconvert_exporter": "python",
   "pygments_lexer": "ipython3",
   "version": "3.11.6"
  }
 },
 "nbformat": 4,
 "nbformat_minor": 2
}
